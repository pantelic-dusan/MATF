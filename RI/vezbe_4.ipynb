{
 "cells": [
  {
   "cell_type": "code",
   "execution_count": 2,
   "metadata": {},
   "outputs": [
    {
     "name": "stdout",
     "output_type": "stream",
     "text": [
      "Maksimalna vrednost: 235\n"
     ]
    }
   ],
   "source": [
    "import queue\n",
    "\n",
    "class Item:\n",
    "    def __init__(self, weight, value):\n",
    "        self.weight = weight\n",
    "        self.value = value\n",
    "\n",
    "class Node:\n",
    "    def __init__(self, level, weight, value):\n",
    "        self.level = level\n",
    "        self.weight = weight\n",
    "        self.value = value\n",
    "        self.bound = 0.0\n",
    "        \n",
    "def bound(u, knapsackWeight, items):\n",
    "    if u.weight >= knapsackWeight:\n",
    "        return 0.0\n",
    "    totalValue = u.value\n",
    "    l = u.level + 1\n",
    "    totalWeight = u.weight\n",
    "    while l < len(items) and totalWeight + items[l].weight <= knapsackWeight:\n",
    "        totalWeight += items[l].weight\n",
    "        totalValue += items[l].value\n",
    "        l += 1\n",
    "    if l < len(items):\n",
    "        totalValue += (knapsackWeight - totalWeight) / items[l].weight * items[l].value\n",
    "    return totalValue\n",
    "\n",
    "def bnb(knapsackWeight, items):\n",
    "    Q = queue.Queue()\n",
    "    u = Node(-1,0,0)\n",
    "    Q.put(u)\n",
    "    maxValue = 0\n",
    "    while not Q.empty():\n",
    "        u = Q.get()\n",
    "        if u.level == len(items)-1:\n",
    "            continue\n",
    "        v = Node(u.level+1, u.weight + items[u.level+1].weight, u.value + items[u.level+1].value)\n",
    "        if v.weight <= knapsackWeight and v.value > maxValue:\n",
    "            maxValue = v.value\n",
    "        v.bound = bound(v, knapsackWeight, items)\n",
    "        if v.bound > maxValue:\n",
    "            Q.put(v)\n",
    "        v = Node(u.level+1, u.weight, u.value)\n",
    "        v.bound = bound(v, knapsackWeight, items)\n",
    "        if v.bound > maxValue:\n",
    "            Q.put(v)\n",
    "    return maxValue\n",
    "\n",
    "knapsackWeight = 10.0\n",
    "\n",
    "items = [Item(1.98, 100),  Item(2, 40), Item(5, 95), Item(3.14, 50), Item(3, 30)]\n",
    "print('Maksimalna vrednost:', bnb(knapsackWeight, items))\n"
   ]
  },
  {
   "cell_type": "code",
   "execution_count": 3,
   "metadata": {},
   "outputs": [
    {
     "name": "stdout",
     "output_type": "stream",
     "text": [
      "Q . . . . . . . \n",
      ". . . . . . Q . \n",
      ". . . . Q . . . \n",
      ". . . . . . . Q \n",
      ". Q . . . . . . \n",
      ". . . Q . . . . \n",
      ". . . . . Q . . \n",
      ". . Q . . . . . \n"
     ]
    }
   ],
   "source": [
    "import numpy as np\n",
    "\n",
    "def printSolution(board):\n",
    "    n = board.shape[0]\n",
    "    for i in range(n):\n",
    "        for j in range(n):\n",
    "            print(board[i][j], end=' ')\n",
    "        print()\n",
    "        \n",
    "def isFree(r, c, rowCheck, d1Check, d2Check):\n",
    "    n = rowCheck.shape[0]\n",
    "    if d1Check[r+c] or d2Check[r-c+n-1] or rowCheck[r]:\n",
    "        return False\n",
    "    return True\n",
    "\n",
    "def bnb(board, c, rowCheck, d1Check, d2Check):\n",
    "    n = board.shape[0]\n",
    "    if c >= n:\n",
    "        return True\n",
    "    \n",
    "    for r in range(n):\n",
    "        if isFree(r,c,rowCheck,d1Check,d2Check):\n",
    "            board[r][c] = 'Q'\n",
    "            rowCheck[r] = True\n",
    "            d1Check[r + c] = True\n",
    "            d2Check[r - c + n - 1] = True\n",
    "            \n",
    "            if bnb(board, c + 1, rowCheck, d1Check, d2Check):\n",
    "                return True\n",
    "            \n",
    "            board[r][c] = '.'\n",
    "            rowCheck[r] = False\n",
    "            d1Check[r + c] = False\n",
    "            d2Check[r - c + n - 1] = False\n",
    "    return False\n",
    "\n",
    "def solve(n):\n",
    "    board = np.full((n,n), '.', dtype=str)\n",
    "    rowCheck = np.full(n, False)\n",
    "    d1Check = np.full(2*n-1, False)\n",
    "    d2Check = np.full(2*n-1, False)\n",
    "    \n",
    "    if not bnb(board, 0, rowCheck, d1Check, d2Check): \n",
    "        print('Nema resenja') \n",
    "        return False\n",
    "    \n",
    "    printSolution(board)\n",
    "    return True \n",
    "\n",
    "if __name__== \"__main__\":\n",
    "    solve(8)"
   ]
  },
  {
   "cell_type": "code",
   "execution_count": null,
   "metadata": {},
   "outputs": [],
   "source": []
  }
 ],
 "metadata": {
  "kernelspec": {
   "display_name": "Python 3",
   "language": "python",
   "name": "python3"
  },
  "language_info": {
   "codemirror_mode": {
    "name": "ipython",
    "version": 3
   },
   "file_extension": ".py",
   "mimetype": "text/x-python",
   "name": "python",
   "nbconvert_exporter": "python",
   "pygments_lexer": "ipython3",
   "version": "3.7.4"
  }
 },
 "nbformat": 4,
 "nbformat_minor": 2
}
