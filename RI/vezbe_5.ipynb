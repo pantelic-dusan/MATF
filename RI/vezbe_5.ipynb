{
 "cells": [
  {
   "cell_type": "code",
   "execution_count": 1,
   "metadata": {},
   "outputs": [],
   "source": [
    "def readInput(filename):\n",
    "    input = open(filename, \"r\")\n",
    "    nbUsers, nbResources = [int(i) for i in input.readline().split()]\n",
    "    cost = [[int(j) for j in input.readline().split()] for i in range(nbUsers)]\n",
    "    fixedCost = [int(j) for j in input.readline().split()]\n",
    "    return nbUsers, nbResources, cost, fixedCost"
   ]
  },
  {
   "cell_type": "code",
   "execution_count": 2,
   "metadata": {},
   "outputs": [],
   "source": [
    "def isFeasible(nbResources, solution):\n",
    "    for j in range(nbResources):\n",
    "        if solution[j]:\n",
    "            return True\n",
    "    return False"
   ]
  },
  {
   "cell_type": "code",
   "execution_count": 3,
   "metadata": {},
   "outputs": [],
   "source": [
    "import random\n",
    "\n",
    "def initialize(nbResources, probability):\n",
    "    solution = []\n",
    "    for j in range(nbResources):\n",
    "        solution.append(random.random() < probability)\n",
    "    if not isFeasible(nbResources, solution):\n",
    "        solution[random.randrange(nbResources)] = True\n",
    "    return solution"
   ]
  },
  {
   "cell_type": "code",
   "execution_count": 4,
   "metadata": {},
   "outputs": [],
   "source": [
    "def solutionValue(nbUsers, nbResources, cost, fixedCost, solution):\n",
    "    value = 0.0\n",
    "    used = [False]*nbResources\n",
    "    for i in range(nbUsers):\n",
    "        minCost = float('inf')\n",
    "        jUsed = -1\n",
    "        for j in range(nbResources):\n",
    "            if solution[j] and cost[i][j] < minCost:\n",
    "                minCost = cost[i][j]\n",
    "                jUsed = j\n",
    "        value += minCost\n",
    "        used[jUsed] = True\n",
    "    for j in range(nbResources):\n",
    "        if used[j]:\n",
    "            value += fixedCost[j]\n",
    "    solution = used\n",
    "    return value\n",
    "    "
   ]
  },
  {
   "cell_type": "code",
   "execution_count": 5,
   "metadata": {},
   "outputs": [],
   "source": [
    "def invert(nbResources, solution):\n",
    "    j = random.randrange(nbResources)\n",
    "    solution[j] = not solution[j]\n",
    "    if isFeasible(nbResources, solution):\n",
    "        return j\n",
    "    solution[j] = not solution[j]\n",
    "    return -1"
   ]
  },
  {
   "cell_type": "code",
   "execution_count": 6,
   "metadata": {},
   "outputs": [],
   "source": [
    "def restore(j, solution):\n",
    "    solution[j] = not solution[j]"
   ]
  },
  {
   "cell_type": "code",
   "execution_count": 7,
   "metadata": {},
   "outputs": [],
   "source": [
    "def simulatedAnnealing(nbUsers, nbResources, cost, fixedCost, solution, maxIters):\n",
    "    currValue = solutionValue(nbUsers, nbResources, cost, fixedCost, solution)\n",
    "    bestValue = currValue\n",
    "    i = 1\n",
    "    while i < maxIters:\n",
    "        j = invert(nbResources, solution)\n",
    "        if j < 0:\n",
    "            continue\n",
    "        newValue = solutionValue(nbUsers, nbResources, cost, fixedCost, solution)\n",
    "        if newValue < currValue:\n",
    "            currValue = newValue\n",
    "        else:\n",
    "            p = 1.0/i**0.5\n",
    "            q = random.uniform(0,1)\n",
    "            if p > q:\n",
    "                currValue = newValue\n",
    "            else:\n",
    "                restore(j, solution)\n",
    "        if newValue < bestValue:\n",
    "            bestValue = newValue\n",
    "        i += 1\n",
    "    return bestValue"
   ]
  },
  {
   "cell_type": "code",
   "execution_count": 8,
   "metadata": {},
   "outputs": [
    {
     "name": "stdout",
     "output_type": "stream",
     "text": [
      "Resenje: 34.0\n"
     ]
    }
   ],
   "source": [
    "nbUsers, nbResources, cost, fixedCost = readInput('uflp.txt')\n",
    "solution = initialize(nbResources, 0.25)\n",
    "value = simulatedAnnealing(nbUsers, nbResources, cost, fixedCost, solution, 10000)\n",
    "print('Resenje:', value)"
   ]
  },
  {
   "cell_type": "code",
   "execution_count": null,
   "metadata": {},
   "outputs": [],
   "source": []
  },
  {
   "cell_type": "code",
   "execution_count": null,
   "metadata": {},
   "outputs": [],
   "source": []
  }
 ],
 "metadata": {
  "kernelspec": {
   "display_name": "Python 3",
   "language": "python",
   "name": "python3"
  },
  "language_info": {
   "codemirror_mode": {
    "name": "ipython",
    "version": 3
   },
   "file_extension": ".py",
   "mimetype": "text/x-python",
   "name": "python",
   "nbconvert_exporter": "python",
   "pygments_lexer": "ipython3",
   "version": "3.7.5"
  }
 },
 "nbformat": 4,
 "nbformat_minor": 2
}
