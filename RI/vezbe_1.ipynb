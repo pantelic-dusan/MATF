{
 "cells": [
  {
   "cell_type": "code",
   "execution_count": 2,
   "metadata": {},
   "outputs": [],
   "source": [
    "import numpy as np"
   ]
  },
  {
   "cell_type": "markdown",
   "metadata": {},
   "source": [
    "### 1. Kreirati niz a od 3 elementa i matricu M dimenzija 2×3 čiji su elementi tipa float32. Ispisati oblik, veličinu, broj dimenzija i tip elemenata niza a, odnosno matrice M."
   ]
  },
  {
   "cell_type": "code",
   "execution_count": 6,
   "metadata": {},
   "outputs": [
    {
     "name": "stdout",
     "output_type": "stream",
     "text": [
      "[1 2 3]\n",
      "(3,)\n",
      "3\n",
      "1\n",
      "int64\n",
      "\n",
      "\n",
      "[[1. 2. 3.]\n",
      " [4. 5. 6.]]\n",
      "(2, 3)\n",
      "6\n",
      "2\n",
      "float32\n"
     ]
    }
   ],
   "source": [
    "a = np.array([1,2,3])\n",
    "M = np.array([[1,2,3], [4,5,6]], dtype='float32')\n",
    "\n",
    "print(a)\n",
    "print(a.shape)\n",
    "print(a.size)\n",
    "print(a.ndim)\n",
    "print(a.dtype)\n",
    "\n",
    "print('\\n')\n",
    "\n",
    "print(M)\n",
    "print(M.shape)\n",
    "print(M.size)\n",
    "print(M.ndim)\n",
    "print(M.dtype)"
   ]
  },
  {
   "cell_type": "markdown",
   "metadata": {},
   "source": [
    "### 2. Generisati nizove i matrice na sledeći način:\n",
    "\n",
    "##### Niz a1 tako što se zadaju početna i krajnja tačka sa odgovarajućim korakom.\n",
    "##### Niz a2 gde se zadaju početna i krajnja tačka i broj ekvidistantnih elemenata u datom intervalu.\n",
    "##### Niz a3 koji se sastoji samo od nula.\n",
    "##### Niz a4 dobijen uniformnom raspodelom.\n",
    "##### Matricu M1 koja se sastoji samo od jedinica.\n",
    "##### Jediničnu matricu M dimenzije 3.\n",
    "##### Dijagonalnu matricu M3 na čijoj se glavnoj dijagonali nalaze redom brojevi 4, 3, 2 i 1.\n",
    "##### Matricu M4 čiji su elementi dobijeni standardnom normalnom raspodelom."
   ]
  },
  {
   "cell_type": "code",
   "execution_count": 9,
   "metadata": {},
   "outputs": [
    {
     "name": "stdout",
     "output_type": "stream",
     "text": [
      "a1 = [1 3 5 7 9]\n",
      "a2 = [1.  1.1 1.2 1.3 1.4 1.5 1.6 1.7 1.8 1.9 2.  2.1 2.2 2.3 2.4 2.5 2.6 2.7\n",
      " 2.8 2.9 3. ]\n",
      "a3 = [0. 0. 0. 0. 0. 0.]\n",
      "a4 = [3.80309546 2.71085467 2.84095729 3.10993244 4.85547827]\n",
      "M1 =\n",
      " [[1. 1. 1.]\n",
      " [1. 1. 1.]]\n",
      "M2 =\n",
      " [[1. 0. 0.]\n",
      " [0. 1. 0.]\n",
      " [0. 0. 1.]]\n",
      "M3 =\n",
      " [[4 0 0 0]\n",
      " [0 3 0 0]\n",
      " [0 0 2 0]\n",
      " [0 0 0 1]]\n",
      "M4 =\n",
      " [[-1.2857549  -1.24918801 -0.40242947]\n",
      " [-0.21176985 -0.07891799 -1.511032  ]\n",
      " [-0.22974568  0.06430512  0.85305524]\n",
      " [-1.51646625 -0.16947718  0.29928861]]\n"
     ]
    }
   ],
   "source": [
    "a1 = np.arange(1,10,2)\n",
    "a2 = np.linspace(1,3,21)\n",
    "a3 = np.zeros(6)\n",
    "a4 = np.random.uniform(2,5,5)\n",
    "\n",
    "print('a1 =', a1)\n",
    "print('a2 =', a2)\n",
    "print('a3 =', a3)\n",
    "print('a4 =', a4)\n",
    "\n",
    "M1 = np.ones((2,3))\n",
    "M2 = np.eye(3)\n",
    "M3 = np.diag([4,3,2,1])\n",
    "M4 = np.random.randn(4,3)\n",
    "\n",
    "print('M1 =\\n', M1)\n",
    "print('M2 =\\n', M2)\n",
    "print('M3 =\\n', M3)\n",
    "print('M4 =\\n', M4)"
   ]
  },
  {
   "cell_type": "markdown",
   "metadata": {},
   "source": [
    "**3.** Date su matrice $M\\_1$ i $M\\_2$. Odrediti vrednosti sledećih matrica:\n",
    "\n",
    "*   $M\\_1 + M\\_2$, gde operacija $+$ označava sabiranje po koordinatama;\n",
    "*   $M\\_1 \\cdot M\\_2$, gde operacija $\\cdot$ označava sabiranje po koordinatama;\n",
    "*   $M\\_1 \\times M\\_2$, gde operacija $\\times$ označava matrično množenje;\n",
    "*   transponovanu matricu $M\\_1^T$ matrice $M\\_1$;\n",
    "*   $\\\\sin (M\\_1)$, gde se vrednost funkcije $\\\\sin x$ računa po koordinatama;\n",
    "*   $\\\\exp (M\\_2)$, gde se vrednost funkcije $e^x$ računa po koordinatama."
   ]
  },
  {
   "cell_type": "code",
   "execution_count": 11,
   "metadata": {},
   "outputs": [
    {
     "name": "stdout",
     "output_type": "stream",
     "text": [
      "M1 + M2 =\n",
      " [[ 3  7 11]\n",
      " [15 19 23]\n",
      " [27 31 35]]\n",
      "M1 * M2 =\n",
      " [[  2  12  30]\n",
      " [ 56  90 132]\n",
      " [182 240 306]]\n",
      "M1 x M2 =\n",
      " [[ 96 114 132]\n",
      " [240 294 348]\n",
      " [384 474 564]] =\n",
      " [[ 96 114 132]\n",
      " [240 294 348]\n",
      " [384 474 564]]\n",
      "transpose(M1) =\n",
      " [[ 1  7 13]\n",
      " [ 3  9 15]\n",
      " [ 5 11 17]] =\n",
      " [[ 1  7 13]\n",
      " [ 3  9 15]\n",
      " [ 5 11 17]]\n",
      "sin(M1) =\n",
      " [[ 0.84147098  0.14112001 -0.95892427]\n",
      " [ 0.6569866   0.41211849 -0.99999021]\n",
      " [ 0.42016704  0.65028784 -0.96139749]]\n",
      "exp(M2) =\n",
      " [[7.38905610e+00 5.45981500e+01 4.03428793e+02]\n",
      " [2.98095799e+03 2.20264658e+04 1.62754791e+05]\n",
      " [1.20260428e+06 8.88611052e+06 6.56599691e+07]]\n"
     ]
    }
   ],
   "source": [
    "M1 = np.array([[1, 3, 5], [7, 9, 11], [13, 15, 17]])\n",
    "M2 = np.array([[2, 4, 6], [8, 10, 12], [14, 16, 18]])\n",
    "\n",
    "print('M1 + M2 =\\n', M1 + M2)\n",
    "print('M1 * M2 =\\n', M1 * M2)\n",
    "print('M1 x M2 =\\n', M1.dot(M2), '=\\n', np.dot(M1, M2))\n",
    "print('transpose(M1) =\\n', M1.T, '=\\n', M1.transpose())\n",
    "print('sin(M1) =\\n', np.sin(M1))\n",
    "print('exp(M2) =\\n', np.exp(M2))"
   ]
  },
  {
   "cell_type": "markdown",
   "metadata": {},
   "source": [
    "**4.** Dati su nizovi $x = [1, 2, 3]$ i $y = [5, 6, 7]$.\n",
    "\n",
    "*   Nadovezati ih po vertikali i po horizontali.\n",
    "*   Odrediti njihov skalarni proizvod.\n",
    "*   Odrediti maksimalni element niza _x_.\n",
    "*   Odrediti minimalni element niza _y_.\n",
    "*   Odrediti sve elemente niza _x_ koji su veći od 1.5.\n"
   ]
  },
  {
   "cell_type": "code",
   "execution_count": 17,
   "metadata": {},
   "outputs": [
    {
     "name": "stdout",
     "output_type": "stream",
     "text": [
      "[[1 2 3]\n",
      " [5 6 7]]\n",
      "[1 2 3 5 6 7]\n",
      "38\n",
      "3\n",
      "5\n",
      "[2 3]\n"
     ]
    }
   ],
   "source": [
    "x = np.array([1,2,3])\n",
    "y = np.array([5,6,7])\n",
    "\n",
    "print(np.vstack((x,y)))\n",
    "print(np.hstack((x,y)))\n",
    "print(np.sum(x*y))\n",
    "print(np.max(x))\n",
    "print(y.min())\n",
    "print(x[x>1.5])"
   ]
  },
  {
   "cell_type": "markdown",
   "metadata": {},
   "source": [
    "**5.** Date su matrice $A=\\begin{bmatrix}1&2&3\\\\\\\\4&5&6\\end{bmatrix}$ i $B=\\begin{bmatrix}1&2&3\\\\\\\\4&6&6\\end{bmatrix}$.\n",
    "\n",
    "*   Proveriti da li su matrice jednake.\n",
    "*   Proveriti da li su matrice jednake po svakoj koordinati.\n",
    "*   Izvršiti preraspodelu elemenata matrice _A_ tako da se dobije matrica $3 \\times 2$.\n",
    "*   Izvršiti sravnjivanje elemenata matrice _A_.\n",
    "*   Odrediti sumu elemenata matrice _B_ koji su jednaki 6.\n"
   ]
  },
  {
   "cell_type": "code",
   "execution_count": 25,
   "metadata": {},
   "outputs": [
    {
     "name": "stdout",
     "output_type": "stream",
     "text": [
      "False\n",
      "[[ True  True  True]\n",
      " [ True False  True]]\n",
      "[[1 2]\n",
      " [3 4]\n",
      " [5 6]]\n",
      "[1 2 3 4 5 6]\n",
      "12\n"
     ]
    }
   ],
   "source": [
    "A = np.array([[1, 2, 3], [4, 5, 6]])\n",
    "B = np.array([[1, 2, 3], [4, 6, 6]])\n",
    "\n",
    "print(np.array_equal(A,B))\n",
    "print(A==B)\n",
    "print(A.reshape((3,2)))\n",
    "print(A.flatten())\n",
    "print(np.sum(B[B==6]))"
   ]
  },
  {
   "cell_type": "markdown",
   "metadata": {},
   "source": [
    "\n",
    "**6.** Za $M = \\begin{bmatrix}1&2&3\\\\\\\\4&5&6\\end{bmatrix}$ i $x = [10, 20, 30]$ izračunati vrednosti $2M$, $x-3$ i $M+x$."
   ]
  },
  {
   "cell_type": "code",
   "execution_count": 26,
   "metadata": {},
   "outputs": [
    {
     "name": "stdout",
     "output_type": "stream",
     "text": [
      "[[ 2  4  6]\n",
      " [ 8 10 12]]\n",
      "[ 7 17 27]\n",
      "[[11 22 33]\n",
      " [14 25 36]]\n"
     ]
    }
   ],
   "source": [
    "M = np.array([[1, 2, 3], [4, 5, 6]])\n",
    "x = np.array([10, 20, 30])\n",
    "\n",
    "print(2*M)\n",
    "print(x-3)\n",
    "print(M+x)"
   ]
  },
  {
   "cell_type": "code",
   "execution_count": 27,
   "metadata": {},
   "outputs": [
    {
     "name": "stdout",
     "output_type": "stream",
     "text": [
      "Pojedinacni element: 7\n",
      "Prva vrsta: [5 6 7 8]\n",
      "Nulta kolona: [1 5 9]\n",
      "Svaki drugi element poslednje kolone: [ 4 12]\n",
      "Elementi na pozicijama (1,2) i (1,3): [7 8]\n"
     ]
    }
   ],
   "source": [
    "M = np.array([[1,2,3,4], [5,6,7,8], [9,10,11,12]])\n",
    "print('Pojedinacni element:', M[1,2])\n",
    "print('Prva vrsta:', M[1])\n",
    "print('Nulta kolona:', M[:,0])\n",
    "print('Svaki drugi element poslednje kolone:', M[::2, -1])\n",
    "print('Elementi na pozicijama (1,2) i (1,3):', M[(1,1), (2,3)])"
   ]
  },
  {
   "cell_type": "code",
   "execution_count": 28,
   "metadata": {},
   "outputs": [
    {
     "name": "stdout",
     "output_type": "stream",
     "text": [
      "Vrednosti od 3. do 4. elementa u nultom redu: [4 5]\n",
      "Kvadratna podmatrica reda 2 u donjem desnom uglu:\n",
      " [[19 20]\n",
      " [24 25]]\n",
      "Elementi svakog drugog reda pocev od 2. i elementi svake druge kolone:\n",
      " [[11 13 15]\n",
      " [21 23 25]]\n",
      "Elementi sa koordinatama (0,2), (1,3), (2,4): [ 3  9 15]\n"
     ]
    }
   ],
   "source": [
    "M = np.arange(25).reshape(5, 5) + 1\n",
    "print('Vrednosti od 3. do 4. elementa u nultom redu:', M[0,3:5])\n",
    "print('Kvadratna podmatrica reda 2 u donjem desnom uglu:\\n', M[-2:,-2:])\n",
    "print('Elementi svakog drugog reda pocev od 2. i elementi svake druge kolone:\\n', M[2::2,::2])\n",
    "print('Elementi sa koordinatama (0,2), (1,3), (2,4):', M[(0,1,2),(2,3,4)])"
   ]
  },
  {
   "cell_type": "code",
   "execution_count": 29,
   "metadata": {},
   "outputs": [
    {
     "name": "stdout",
     "output_type": "stream",
     "text": [
      "M =\n",
      " [[0 1 2]\n",
      " [3 4 5]\n",
      " [6 7 8]]\n",
      "26\n"
     ]
    }
   ],
   "source": [
    "M = np.arange(9).reshape(3, 3)\n",
    "print('M =\\n', M)\n",
    "average = np.average(M)\n",
    "print(np.sum(M[M > average]))\n"
   ]
  },
  {
   "cell_type": "code",
   "execution_count": 31,
   "metadata": {},
   "outputs": [
    {
     "name": "stdout",
     "output_type": "stream",
     "text": [
      "[[0. 0. 0. 1.]\n",
      " [0. 0. 2. 0.]\n",
      " [0. 3. 0. 0.]\n",
      " [4. 0. 0. 0.]]\n"
     ]
    }
   ],
   "source": [
    "n = 4\n",
    "M = np.zeros((n,n))\n",
    "for i in range(n):\n",
    "    M[i][n-i-1] = i+1\n",
    "print(M)"
   ]
  },
  {
   "cell_type": "code",
   "execution_count": 32,
   "metadata": {},
   "outputs": [],
   "source": [
    "from numpy import linalg as LA"
   ]
  },
  {
   "cell_type": "code",
   "execution_count": 36,
   "metadata": {},
   "outputs": [
    {
     "name": "stdout",
     "output_type": "stream",
     "text": [
      "Matrica:\n",
      "[[ 1  2  4]\n",
      " [-5  7  2]\n",
      " [ 5  1  9]]\n",
      "Determinanta:  11.00000000000001\n",
      "\n",
      "Inverz:\n",
      "[[ 5.54545455 -1.27272727 -2.18181818]\n",
      " [ 5.         -1.         -2.        ]\n",
      " [-3.63636364  0.81818182  1.54545455]]\n",
      "\n",
      "Sopstvene vrednosti date u nizu: [ 0.17157288  5.82842712 11.        ]\n",
      "Sopstveni vektori dati kao kolone matrice:\n",
      "[[ 6.57393413e-01 -6.10635274e-02  3.71390676e-01]\n",
      " [ 6.10673901e-01 -9.20292562e-01  6.19577306e-16]\n",
      " [-4.41487584e-01  3.86436083e-01  9.28476691e-01]]\n"
     ]
    }
   ],
   "source": [
    "A = np.array([[1, 2, 4], [-5, 7, 2], [5, 1, 9]])\n",
    "print('Matrica:')\n",
    "print(A)\n",
    "print('Determinanta: ', LA.det(A))\n",
    "print()\n",
    "print('Inverz:')\n",
    "print(LA.inv(A))\n",
    "print()\n",
    "l, x = LA.eig(A)\n",
    "print('Sopstvene vrednosti date u nizu:', l)\n",
    "print('Sopstveni vektori dati kao kolone matrice:')\n",
    "print(x)"
   ]
  },
  {
   "cell_type": "code",
   "execution_count": 37,
   "metadata": {},
   "outputs": [
    {
     "name": "stdout",
     "output_type": "stream",
     "text": [
      "[1. 3. 2. 4.]\n",
      "[[1. 0. 0. 0.]\n",
      " [0. 1. 0. 0.]\n",
      " [0. 0. 1. 0.]\n",
      " [0. 0. 0. 1.]]\n"
     ]
    }
   ],
   "source": [
    "l, x = LA.eig(np.diag([1, 3, 2, 4]))\n",
    "print(l)\n",
    "print(x)"
   ]
  },
  {
   "cell_type": "code",
   "execution_count": 39,
   "metadata": {},
   "outputs": [
    {
     "name": "stdout",
     "output_type": "stream",
     "text": [
      "Matricna 1-norma: 15.0\n",
      "Matricna 2-norma: 11.21324242009752\n",
      "Frobeniusova norma: 14.352700094407323\n",
      "Matricna beskonacna norma: 15.0\n"
     ]
    }
   ],
   "source": [
    "norm1 = LA.norm(A, ord=1)\n",
    "norm2 = LA.norm(A, ord=2)\n",
    "normf = LA.norm(A, ord='fro')\n",
    "norminf = LA.norm(A, ord = np.inf)\n",
    "\n",
    "print('Matricna 1-norma:', norm1)\n",
    "print('Matricna 2-norma:', norm2)\n",
    "print('Frobeniusova norma:', normf)\n",
    "print('Matricna beskonacna norma:', norminf)"
   ]
  },
  {
   "cell_type": "code",
   "execution_count": 40,
   "metadata": {},
   "outputs": [
    {
     "name": "stdout",
     "output_type": "stream",
     "text": [
      "Kondicioni broj: 102.39895228883015\n"
     ]
    },
    {
     "data": {
      "text/plain": [
       "102.39895228883077"
      ]
     },
     "execution_count": 40,
     "metadata": {},
     "output_type": "execute_result"
    }
   ],
   "source": [
    "print('Kondicioni broj:', LA.cond(A))\n",
    "# podrazumevano se koristi matricna 2-norma\n",
    "LA.norm(A, ord = 2) * LA.norm(LA.inv(A), ord = 2)"
   ]
  },
  {
   "cell_type": "code",
   "execution_count": 42,
   "metadata": {},
   "outputs": [
    {
     "name": "stdout",
     "output_type": "stream",
     "text": [
      "399998.0000107766\n",
      "2.6180691137495264\n",
      "[0.001 0.   ]\n",
      "[-1.99899  2.     ]\n",
      "[0.001 0.   ]\n",
      "[9.899998e-04 2.000020e-05]\n"
     ]
    }
   ],
   "source": [
    "b = np.array([1, 1]).T\n",
    "delta = np.array([0.01, -0.01]).T\n",
    "\n",
    "# matrica sa velikim kondicionim brojem\n",
    "A1 = np.array([[1000, 1000], [1000, 999.99]])\n",
    "print(LA.cond(A1))\n",
    "\n",
    "# matrica sa malim kondicionim brojem\n",
    "A2 = np.array([[1000, 1000], [1000, 0.01]])\n",
    "print(LA.cond(A2))\n",
    "\n",
    "# A1 * x = b i A1 * x = b + delta\n",
    "print(LA.inv(A1).dot(b))\n",
    "print(LA.inv(A1).dot(b + delta))\n",
    "\n",
    "# A2 * x = b i A2 * x = b + delta\n",
    "print(LA.inv(A2).dot(b))\n",
    "print(LA.inv(A2).dot(b + delta))"
   ]
  },
  {
   "cell_type": "code",
   "execution_count": null,
   "metadata": {},
   "outputs": [],
   "source": []
  }
 ],
 "metadata": {
  "kernelspec": {
   "display_name": "Python 3",
   "language": "python",
   "name": "python3"
  },
  "language_info": {
   "codemirror_mode": {
    "name": "ipython",
    "version": 3
   },
   "file_extension": ".py",
   "mimetype": "text/x-python",
   "name": "python",
   "nbconvert_exporter": "python",
   "pygments_lexer": "ipython3",
   "version": "3.7.4"
  }
 },
 "nbformat": 4,
 "nbformat_minor": 2
}
