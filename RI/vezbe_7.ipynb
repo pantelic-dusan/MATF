{
 "cells": [
  {
   "cell_type": "code",
   "execution_count": 1,
   "metadata": {},
   "outputs": [],
   "source": [
    "import random"
   ]
  },
  {
   "cell_type": "code",
   "execution_count": 10,
   "metadata": {},
   "outputs": [],
   "source": [
    "class Individual:\n",
    "    \n",
    "    def __init__(self):\n",
    "        self.code = []\n",
    "        for i in range(3):\n",
    "            self.code.append(self.randomOperator())\n",
    "        for i in range(3,7):\n",
    "            self.code.append(random.randrange(-200,200))\n",
    "        self.fitness = self.fitnessFunction()\n",
    "    \n",
    "    def __lt__(self, other):\n",
    "        selfDiff = abs(self.fitness - 5000)\n",
    "        otherDiff = abs(self.fitness - 5000)\n",
    "        return selfDiff <= otherDiff\n",
    "    \n",
    "    def __str__(self):\n",
    "        a = str(self.code[3])\n",
    "        b = str(self.code[4])\n",
    "        c = str(self.code[5])\n",
    "        d = str(self.code[6])\n",
    "        left = '(' + a + ' ' + self.code[1] + ' ' + b + ')'\n",
    "        middle = ' ' + self.code[0] + ' '\n",
    "        right = '(' + c + ' ' + self.code[2] + ' ' + d + ')'\n",
    "        return left + middle + right\n",
    "    \n",
    "    def fitnessFunction(self):\n",
    "        return eval(self.__str__())\n",
    "    \n",
    "    def randomOperator(self):\n",
    "        operators = ['+', '-', '*']\n",
    "        size = len(operators)\n",
    "        index = random.randrange(size)\n",
    "        return operators[index]\n",
    "    \n",
    "        "
   ]
  },
  {
   "cell_type": "code",
   "execution_count": 3,
   "metadata": {},
   "outputs": [],
   "source": [
    "def selection(population):\n",
    "    min = float('inf')\n",
    "    k = -1\n",
    "    for i in range(6):\n",
    "        j = random.randrange(200)\n",
    "        if abs(population[j].fitness - 5000) < min:\n",
    "            min = abs(population[j].fitness - 500)\n",
    "            k = j\n",
    "    return k"
   ]
  },
  {
   "cell_type": "code",
   "execution_count": 4,
   "metadata": {},
   "outputs": [],
   "source": [
    "def addIndex(i, index):\n",
    "    if i < 7:\n",
    "        index.append(i)\n",
    "        addIndex(2*i+1, index)\n",
    "        addIndex(2*i+2, index)"
   ]
  },
  {
   "cell_type": "code",
   "execution_count": 5,
   "metadata": {},
   "outputs": [],
   "source": [
    "def crossover(parent1, parent2, child1, child2):\n",
    "    i = random.randrange(7)\n",
    "    index = []\n",
    "    addIndex(i, index)\n",
    "    for i in range(7):\n",
    "        child1.code[i] = parent2.code[i] if i in index else parent1.code[i]\n",
    "        child2.code[i] = parent1.code[i] if i in index else parent2.code[i]"
   ]
  },
  {
   "cell_type": "code",
   "execution_count": 6,
   "metadata": {},
   "outputs": [],
   "source": [
    "def mutation(individual):\n",
    "    for i in range(7):\n",
    "        if random.random() > 0.1:\n",
    "            continue\n",
    "        if i < 3:\n",
    "            individual.code[i] = individual.randomOperator()\n",
    "        else:\n",
    "            n = individual.code[i]\n",
    "            individual.code[i] = random.randrange(n-10, n+10)"
   ]
  },
  {
   "cell_type": "code",
   "execution_count": 11,
   "metadata": {},
   "outputs": [
    {
     "name": "stdout",
     "output_type": "stream",
     "text": [
      "\n",
      "Solution found after 2685 iterations:\n",
      "(-36 * -141) - (-5 - -81) = 5000\n"
     ]
    }
   ],
   "source": [
    "solutionFound = False\n",
    "population = []\n",
    "newPopulation = []\n",
    "for i in range(200):\n",
    "    population.append(Individual())\n",
    "    newPopulation.append(Individual())\n",
    "    \n",
    "for iteration in range(5000):\n",
    "    population.sort()\n",
    "    if population[0].fitness == 5000:\n",
    "        print('\\nSolution found after', iteration, 'iterations:')\n",
    "        print(population[0], '=', population[0].fitness)\n",
    "        solutionFound = True\n",
    "        break\n",
    "    for i in range(40):\n",
    "        newPopulation[i] = population[i]\n",
    "    for i in range(40, 200, 2):\n",
    "        k1 = selection(population)\n",
    "        k2 = selection(population)\n",
    "        crossover(population[k1], population[k2], newPopulation[i], newPopulation[i + 1])\n",
    "        mutation(newPopulation[i])\n",
    "        mutation(newPopulation[i+1])\n",
    "        newPopulation[i].fitness = newPopulation[i].fitnessFunction()\n",
    "        newPopulation[i + 1].fitness = newPopulation[i + 1].fitnessFunction()\n",
    "    population = newPopulation\n",
    "\n",
    "if not solutionFound:\n",
    "    print('\\nSolution not found.')"
   ]
  },
  {
   "cell_type": "code",
   "execution_count": null,
   "metadata": {},
   "outputs": [],
   "source": []
  }
 ],
 "metadata": {
  "kernelspec": {
   "display_name": "Python 3",
   "language": "python",
   "name": "python3"
  },
  "language_info": {
   "codemirror_mode": {
    "name": "ipython",
    "version": 3
   },
   "file_extension": ".py",
   "mimetype": "text/x-python",
   "name": "python",
   "nbconvert_exporter": "python",
   "pygments_lexer": "ipython3",
   "version": "3.7.5"
  }
 },
 "nbformat": 4,
 "nbformat_minor": 2
}
