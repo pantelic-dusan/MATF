{
 "cells": [
  {
   "cell_type": "code",
   "execution_count": 3,
   "metadata": {},
   "outputs": [],
   "source": [
    "import numpy as np"
   ]
  },
  {
   "cell_type": "code",
   "execution_count": 4,
   "metadata": {},
   "outputs": [],
   "source": [
    "def gradient_descent(f, gradient, x0, alpha, eps, max_iterations):\n",
    "    x = x0\n",
    "    for iteration in range(max_iterations):\n",
    "        x_new = x - alpha*(gradient(x))\n",
    "        if np.abs(f(x_new) - f(x)) < eps:\n",
    "            break\n",
    "        x = x_new\n",
    "    converged = iteration != max_iterations\n",
    "    return x_new, converged"
   ]
  },
  {
   "cell_type": "code",
   "execution_count": 5,
   "metadata": {},
   "outputs": [
    {
     "data": {
      "text/plain": [
       "(array([0.26588814, 0.        ]), True)"
      ]
     },
     "execution_count": 5,
     "metadata": {},
     "output_type": "execute_result"
    }
   ],
   "source": [
    "def f(x):\n",
    "    return 0.5 * (x[0]**2 + 10*x[1]**2)\n",
    "\n",
    "def gradient(x):\n",
    "    return np.array([x[0], 10*x[1]])\n",
    "\n",
    "x0 = np.array([3, 5])\n",
    "alpha = 0.1\n",
    "eps = 0.01\n",
    "max_iterations = 1000\n",
    "\n",
    "gradient_descent(f, gradient, x0, alpha, eps, max_iterations)"
   ]
  },
  {
   "cell_type": "code",
   "execution_count": 11,
   "metadata": {},
   "outputs": [],
   "source": [
    "def adam(f, grad, x0, alpha, beta1, beta2, eps, max_iterations, precision):\n",
    "    m = 0\n",
    "    v = 0\n",
    "    x_old = x0\n",
    "    for k in range(1,max_iterations+1):\n",
    "        m = beta1 * m + (1 - beta1) * grad(x_old)\n",
    "        v = beta2 * v + (1 - beta2) * (grad(x_old) * grad(x_old))\n",
    "        m_hat = m / (1 - beta1 ** k)\n",
    "        v_hat = v / (1 - beta2 ** k)\n",
    "        x_new = x_old - (alpha * m_hat) / (np.sqrt(v_hat) + eps)\n",
    "        if np.abs(f(x_new) - f(x_old)) < precision:\n",
    "            break\n",
    "        x_old = x_new\n",
    "    converged = k != max_iterations\n",
    "    return x_new, converged\n",
    "                      "
   ]
  },
  {
   "cell_type": "code",
   "execution_count": 12,
   "metadata": {},
   "outputs": [
    {
     "data": {
      "text/plain": [
       "(array([ 0.11697458, -0.03224894]), True)"
      ]
     },
     "execution_count": 12,
     "metadata": {},
     "output_type": "execute_result"
    }
   ],
   "source": [
    "alpha = 1\n",
    "beta1 = 0.9\n",
    "beta2 = 0.999\n",
    "eps = 1e-8\n",
    "precision = 0.01\n",
    "x0 = np.array([3, 5])\n",
    "max_iterations = 1000\n",
    "\n",
    "adam(f, gradient, x0, alpha, beta1, beta2, eps, max_iterations, precision)"
   ]
  },
  {
   "cell_type": "code",
   "execution_count": 13,
   "metadata": {},
   "outputs": [
    {
     "name": "stdout",
     "output_type": "stream",
     "text": [
      "1 0.953745938548645\n",
      "1 0.9503597341691822\n",
      "1 0.9974732370818323\n",
      "0 0.5\n"
     ]
    }
   ],
   "source": [
    "def sigmoid(x):\n",
    "    return 1.0 / (1.0 + np.exp(-x))\n",
    "\n",
    "def update_w(x, y, w):\n",
    "    u = np.inner(x, w)\n",
    "    o = sigmoid(u)\n",
    "    delta_w = ((y - o) * o * (1 - o)) * x\n",
    "    return w + delta_w\n",
    "\n",
    "X = np.array([[1, 0], [0, 1], [1, 1], [0, 0]])\n",
    "y = np.array([1, 1, 1, 0])\n",
    "w = np.array([0.5, 0.5])\n",
    "max_iterations = 1000\n",
    "n = X.shape[0]\n",
    "\n",
    "for i in range(max_iterations):\n",
    "    k = np.random.randint(n)\n",
    "    w = update_w(X[k], y[k], w)\n",
    "    \n",
    "for i in range(n):\n",
    "    o = sigmoid(np.inner(X[i], w))\n",
    "    print(y[i], o)"
   ]
  },
  {
   "cell_type": "code",
   "execution_count": null,
   "metadata": {},
   "outputs": [],
   "source": []
  }
 ],
 "metadata": {
  "kernelspec": {
   "display_name": "Python 3",
   "language": "python",
   "name": "python3"
  },
  "language_info": {
   "codemirror_mode": {
    "name": "ipython",
    "version": 3
   },
   "file_extension": ".py",
   "mimetype": "text/x-python",
   "name": "python",
   "nbconvert_exporter": "python",
   "pygments_lexer": "ipython3",
   "version": "3.7.5"
  }
 },
 "nbformat": 4,
 "nbformat_minor": 2
}
